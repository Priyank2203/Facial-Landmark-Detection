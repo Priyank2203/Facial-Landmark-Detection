{
 "cells": [
  {
   "cell_type": "code",
   "execution_count": 4,
   "id": "27e14c27-7ee0-4be3-99fc-66e32e865046",
   "metadata": {},
   "outputs": [
    {
     "name": "stdout",
     "output_type": "stream",
     "text": [
      "Requirement already satisfied: mediapipe in c:\\users\\priya\\appdata\\local\\programs\\python\\python310\\lib\\site-packages (0.10.3)\n",
      "Requirement already satisfied: absl-py in c:\\users\\priya\\appdata\\local\\programs\\python\\python310\\lib\\site-packages (from mediapipe) (1.4.0)\n",
      "Requirement already satisfied: attrs>=19.1.0 in c:\\users\\priya\\appdata\\local\\programs\\python\\python310\\lib\\site-packages (from mediapipe) (23.1.0)\n",
      "Requirement already satisfied: flatbuffers>=2.0 in c:\\users\\priya\\appdata\\local\\programs\\python\\python310\\lib\\site-packages (from mediapipe) (23.5.26)\n",
      "Requirement already satisfied: matplotlib in c:\\users\\priya\\appdata\\local\\programs\\python\\python310\\lib\\site-packages (from mediapipe) (3.6.1)\n",
      "Requirement already satisfied: numpy in c:\\users\\priya\\appdata\\local\\programs\\python\\python310\\lib\\site-packages (from mediapipe) (1.23.4)\n",
      "Requirement already satisfied: opencv-contrib-python in c:\\users\\priya\\appdata\\local\\programs\\python\\python310\\lib\\site-packages (from mediapipe) (4.8.0.74)\n",
      "Requirement already satisfied: protobuf<4,>=3.11 in c:\\users\\priya\\appdata\\local\\programs\\python\\python310\\lib\\site-packages (from mediapipe) (3.20.3)\n",
      "Requirement already satisfied: sounddevice>=0.4.4 in c:\\users\\priya\\appdata\\local\\programs\\python\\python310\\lib\\site-packages (from mediapipe) (0.4.6)\n",
      "Requirement already satisfied: CFFI>=1.0 in c:\\users\\priya\\appdata\\local\\programs\\python\\python310\\lib\\site-packages (from sounddevice>=0.4.4->mediapipe) (1.15.1)\n",
      "Requirement already satisfied: contourpy>=1.0.1 in c:\\users\\priya\\appdata\\local\\programs\\python\\python310\\lib\\site-packages (from matplotlib->mediapipe) (1.0.6)\n",
      "Requirement already satisfied: cycler>=0.10 in c:\\users\\priya\\appdata\\local\\programs\\python\\python310\\lib\\site-packages (from matplotlib->mediapipe) (0.11.0)\n",
      "Requirement already satisfied: fonttools>=4.22.0 in c:\\users\\priya\\appdata\\local\\programs\\python\\python310\\lib\\site-packages (from matplotlib->mediapipe) (4.38.0)\n",
      "Requirement already satisfied: kiwisolver>=1.0.1 in c:\\users\\priya\\appdata\\local\\programs\\python\\python310\\lib\\site-packages (from matplotlib->mediapipe) (1.4.4)\n",
      "Requirement already satisfied: packaging>=20.0 in c:\\users\\priya\\appdata\\local\\programs\\python\\python310\\lib\\site-packages (from matplotlib->mediapipe) (21.3)\n",
      "Requirement already satisfied: pillow>=6.2.0 in c:\\users\\priya\\appdata\\local\\programs\\python\\python310\\lib\\site-packages (from matplotlib->mediapipe) (9.3.0)\n",
      "Requirement already satisfied: pyparsing>=2.2.1 in c:\\users\\priya\\appdata\\local\\programs\\python\\python310\\lib\\site-packages (from matplotlib->mediapipe) (3.0.9)\n",
      "Requirement already satisfied: python-dateutil>=2.7 in c:\\users\\priya\\appdata\\local\\programs\\python\\python310\\lib\\site-packages (from matplotlib->mediapipe) (2.8.2)\n",
      "Requirement already satisfied: pycparser in c:\\users\\priya\\appdata\\local\\programs\\python\\python310\\lib\\site-packages (from CFFI>=1.0->sounddevice>=0.4.4->mediapipe) (2.21)\n",
      "Requirement already satisfied: six>=1.5 in c:\\users\\priya\\appdata\\local\\programs\\python\\python310\\lib\\site-packages (from python-dateutil>=2.7->matplotlib->mediapipe) (1.16.0)\n",
      "Note: you may need to restart the kernel to use updated packages.\n"
     ]
    }
   ],
   "source": [
    "pip install mediapipe"
   ]
  },
  {
   "cell_type": "code",
   "execution_count": 5,
   "id": "b79795dd-482d-4417-b076-5fc7c14fbaca",
   "metadata": {},
   "outputs": [],
   "source": [
    "import cv2\n",
    "import mediapipe as mp"
   ]
  },
  {
   "cell_type": "code",
   "execution_count": 6,
   "id": "89f6e8b8-5688-4e5f-9940-ae80872bf8db",
   "metadata": {},
   "outputs": [],
   "source": [
    "mp_drawing = mp.solutions.drawing_utils\n",
    "mp_drawing_styles = mp.solutions.drawing_styles\n",
    "\n",
    "my_drawing_specs = mp_drawing.DrawingSpec(color = (0, 255, 132), thickness = 1)"
   ]
  },
  {
   "cell_type": "code",
   "execution_count": 7,
   "id": "948ac992-4435-4f17-8d82-56f16fc9da29",
   "metadata": {},
   "outputs": [
    {
     "ename": "TypeError",
     "evalue": "'NoneType' object is not iterable",
     "output_type": "error",
     "traceback": [
      "\u001b[1;31m---------------------------------------------------------------------------\u001b[0m",
      "\u001b[1;31mTypeError\u001b[0m                                 Traceback (most recent call last)",
      "Cell \u001b[1;32mIn[7], line 21\u001b[0m\n\u001b[0;32m     16\u001b[0m     \u001b[38;5;28;01mbreak\u001b[39;00m\n\u001b[0;32m     19\u001b[0m results \u001b[38;5;241m=\u001b[39m face_mesh\u001b[38;5;241m.\u001b[39mprocess(image)\n\u001b[1;32m---> 21\u001b[0m \u001b[38;5;28;01mfor\u001b[39;00m face_landmarks \u001b[38;5;129;01min\u001b[39;00m results\u001b[38;5;241m.\u001b[39mmulti_face_landmarks:\n\u001b[0;32m     22\u001b[0m     mp_drawing\u001b[38;5;241m.\u001b[39mdraw_landmarks(\n\u001b[0;32m     23\u001b[0m         image \u001b[38;5;241m=\u001b[39m image,\n\u001b[0;32m     24\u001b[0m         landmark_list \u001b[38;5;241m=\u001b[39m face_landmarks,\n\u001b[1;32m   (...)\u001b[0m\n\u001b[0;32m     28\u001b[0m         \u001b[38;5;241m.\u001b[39mget_default_face_mesh_tesselation_style()\n\u001b[0;32m     29\u001b[0m     )\n\u001b[0;32m     31\u001b[0m     mp_drawing\u001b[38;5;241m.\u001b[39mdraw_landmarks(\n\u001b[0;32m     32\u001b[0m         image \u001b[38;5;241m=\u001b[39m image,\n\u001b[0;32m     33\u001b[0m         landmark_list \u001b[38;5;241m=\u001b[39m face_landmarks,\n\u001b[1;32m   (...)\u001b[0m\n\u001b[0;32m     36\u001b[0m         connection_drawing_spec \u001b[38;5;241m=\u001b[39m my_drawing_specs\n\u001b[0;32m     37\u001b[0m     )\n",
      "\u001b[1;31mTypeError\u001b[0m: 'NoneType' object is not iterable"
     ]
    }
   ],
   "source": [
    "cap = cv2.VideoCapture(0)\n",
    "\n",
    "mp_face_mesh = mp.solutions.face_mesh\n",
    "\n",
    "with mp_face_mesh.FaceMesh(\n",
    "        max_num_faces = 5,\n",
    "        refine_landmarks = True,\n",
    "        min_detection_confidence = 0.5,\n",
    "        min_tracking_confidence = 0.5\n",
    "    ) as face_mesh:\n",
    "\n",
    "\n",
    "    while cap.isOpened():\n",
    "        success, image = cap.read()\n",
    "        if not success:\n",
    "            break\n",
    "\n",
    "\n",
    "        results = face_mesh.process(image)\n",
    "\n",
    "        for face_landmarks in results.multi_face_landmarks:\n",
    "            mp_drawing.draw_landmarks(\n",
    "                image = image,\n",
    "                landmark_list = face_landmarks,\n",
    "                connections = mp_face_mesh.FACEMESH_TESSELATION,\n",
    "                landmark_drawing_spec = None,\n",
    "                connection_drawing_spec = mp_drawing_styles\n",
    "                .get_default_face_mesh_tesselation_style()\n",
    "            )\n",
    "\n",
    "            mp_drawing.draw_landmarks(\n",
    "                image = image,\n",
    "                landmark_list = face_landmarks,\n",
    "                connections = mp_face_mesh.FACEMESH_CONTOURS,\n",
    "                landmark_drawing_spec = None,\n",
    "                connection_drawing_spec = my_drawing_specs\n",
    "            )\n",
    "\n",
    "\n",
    "        cv2.imshow(\"My Feed\", cv2.flip(image, 1))\n",
    "\n",
    "        if cv2.waitKey(50) & 0xFF == ord('p'):\n",
    "            break\n",
    "\n",
    "cap.release()\n",
    "cv2.destroyAllWindows()"
   ]
  },
  {
   "cell_type": "code",
   "execution_count": null,
   "id": "1f002d7e-9e9d-4512-b686-0efbe4a4228f",
   "metadata": {},
   "outputs": [],
   "source": []
  }
 ],
 "metadata": {
  "kernelspec": {
   "display_name": "Python 3 (ipykernel)",
   "language": "python",
   "name": "python3"
  },
  "language_info": {
   "codemirror_mode": {
    "name": "ipython",
    "version": 3
   },
   "file_extension": ".py",
   "mimetype": "text/x-python",
   "name": "python",
   "nbconvert_exporter": "python",
   "pygments_lexer": "ipython3",
   "version": "3.10.2"
  }
 },
 "nbformat": 4,
 "nbformat_minor": 5
}
